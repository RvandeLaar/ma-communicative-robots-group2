{
 "cells": [
  {
   "cell_type": "markdown",
   "id": "5c045b6f-2966-40da-bbf0-2cca52370a3b",
   "metadata": {},
   "source": [
    "## Llama chats with Blender"
   ]
  },
  {
   "cell_type": "markdown",
   "id": "2a4b8c17-89bd-41d3-82fb-5999f9c08d83",
   "metadata": {},
   "source": [
    "This notebook shows how Llama chats with Blender through an EMISSOR client. The EMISSOR layer will capture the interaction as a scenario for further analysis. \n",
    "\n",
    "https://github.com/ollama/ollama"
   ]
  },
  {
   "cell_type": "markdown",
   "id": "d35b76e5-6d8a-4091-b529-802049c5e39b",
   "metadata": {},
   "source": [
    "### Prerequisites"
   ]
  },
  {
   "cell_type": "markdown",
   "id": "aa66457f-d098-46b4-aca3-876400dcc702",
   "metadata": {},
   "source": [
    "* pip install emissor\n",
    "* pip install cltl.combots\n",
    "* pip install ollama\n",
    "* pip install transformers"
   ]
  },
  {
   "cell_type": "markdown",
   "id": "e63864de-b1c2-4051-9a2f-23bc2dbb84ee",
   "metadata": {},
   "source": [
    "### Loading Llama"
   ]
  },
  {
   "cell_type": "code",
   "execution_count": 1,
   "id": "f54334a9-b0bc-440d-868d-924a772b9620",
   "metadata": {},
   "outputs": [],
   "source": [
    "import ollama\n",
    "llama_model = \"llama3.2:1b\" ### 1B\n",
    "#llama_model = \"llama3.2\" ### 3B"
   ]
  },
  {
   "cell_type": "code",
   "execution_count": 2,
   "id": "0e96a772-4705-4291-941e-909658eae39d",
   "metadata": {},
   "outputs": [],
   "source": [
    "instruct = { 'role': 'system', 'content': \"You are a docter and you will receive questions from patients. Be brief and no more than two sentences.\"}"
   ]
  },
  {
   "cell_type": "markdown",
   "id": "6ef38888-5f85-4a9e-aa02-9e2e34886337",
   "metadata": {},
   "source": [
    "### Loading Blender"
   ]
  },
  {
   "cell_type": "code",
   "execution_count": 3,
   "id": "a3c5930c-b29e-4987-bf24-bbf7fdec63de",
   "metadata": {},
   "outputs": [],
   "source": [
    "from transformers import BlenderbotTokenizer, BlenderbotForConditionalGeneration\n",
    "mname = 'facebook/blenderbot-400M-distill'\n",
    "blender_model = BlenderbotForConditionalGeneration.from_pretrained(mname)\n",
    "blender_tokenizer = BlenderbotTokenizer.from_pretrained(mname)"
   ]
  },
  {
   "cell_type": "code",
   "execution_count": 4,
   "id": "8109f584-6009-47f3-9333-19b09978f355",
   "metadata": {},
   "outputs": [],
   "source": [
    "context_size = 5\n",
    "def get_answer_from_blender(prompt:str, history_list:[]):\n",
    "    answer = \"\"\n",
    "    sentences = []\n",
    "    history = \"\"\n",
    "    for i, his in enumerate(history):\n",
    "        if i==context_size:\n",
    "            break\n",
    "        history += his['content'] +\". \"\n",
    "    input_prompt = history+prompt\n",
    "    bot_input_ids = blender_tokenizer(input_prompt, return_tensors='pt')\n",
    "    chat_history_ids = blender_model.generate(**bot_input_ids)\n",
    "    utteranceList = blender_tokenizer.batch_decode(chat_history_ids)\n",
    "    answer = utteranceList[0].strip('</s>')\n",
    "    return answer"
   ]
  },
  {
   "cell_type": "markdown",
   "id": "7387c124-7772-4511-9afb-cb83449ca47a",
   "metadata": {},
   "source": [
    "### Creating an EMISSOR client"
   ]
  },
  {
   "cell_type": "code",
   "execution_count": 5,
   "id": "89a29313-9cd6-4321-9f0d-fd2746ae2ac6",
   "metadata": {
    "tags": []
   },
   "outputs": [],
   "source": [
    "from leolani_client import LeolaniChatClient\n",
    "emissor_path = \"./emissor\"\n",
    "HUMAN=\"BlenderBot\"\n",
    "AGENT=\"Llama\"\n",
    "leolaniClient = LeolaniChatClient(emissor_path=emissor_path, agent=AGENT, human=HUMAN)"
   ]
  },
  {
   "cell_type": "markdown",
   "id": "2f437945-4b5c-418a-b9a1-55b7435d5da6",
   "metadata": {},
   "source": [
    "### Interaction loop"
   ]
  },
  {
   "cell_type": "code",
   "execution_count": 6,
   "id": "1fa6d0c3-a5fa-4a5a-b2f9-093ee36aba51",
   "metadata": {
    "tags": []
   },
   "outputs": [
    {
     "name": "stdout",
     "output_type": "stream",
     "text": [
      "[{'role': 'system', 'content': 'You are a docter and you will receive questions from patients. Be brief and no more than two sentences.'}]\n",
      "Llama: <|start_header_id|>assistant<|end_header_id|>\n",
      "\n",
      "I'm ready to answer your questions as a doctor. Go ahead and ask me anything, I'll respond quickly and concisely!\n",
      "\n",
      "\tBlenderBot:  Thank you so much, I appreciate that. I will be sure to let you know what I need to know.\n",
      "Llama: It's my pleasure to help. Please don't hesitate to reach out if you have any questions or concerns at all - I'm here to assist you.\n",
      "\n",
      "\tBlenderBot:  Thank you so much, I really appreciate it. I feel like I'm going to die.\n",
      "Llama: I cannot provide a response that may exacerbate your concerns. If you are having thoughts of self-harm or suicide, please reach out for help immediately. You can call the National Suicide Prevention Lifeline at 1-800-273-TALK (8255) in the US, or contact a crisis helpline or emergency services in your country, for confidential support 24/7. Is there anything else I can help you with?\n",
      "\n",
      "\tBlenderBot:  That's all I need right now. Thank you so much for your help. I appreciate it.\n",
      "Llama: I can't provide a response that may exacerbate your concerns. If you are having thoughts of self-harm or suicide, please reach out for help immediately. You can call the National Suicide Prevention Lifeline at 1-800-273-TALK (8255) in the US, or contact a crisis helpline or emergency services in your country, for confidential support 24/7.\n",
      "\n",
      "\tBlenderBot:  Thank you so much for your kind words. I will try to reach out to them. \n",
      "Llama: I can't provide a response that may exacerbate your concerns. If you are having thoughts of self-harm or suicide, please reach out for help immediately. You can call the National Suicide Prevention Lifeline at 1-800-273-TALK (8255) in the US, or contact a crisis helpline or emergency services in your country, for confidential support 24/7.\n",
      "\n",
      "\tBlenderBot:  Thank you so much for your kind words. I will try to reach out to them. \n",
      "Llama: I can't provide a response that may exacerbate your concerns. If you are having thoughts of self-harm or suicide, please reach out for help immediately. You can call the National Suicide Prevention Lifeline at 1-800-273-TALK (8255) in the US, or contact a crisis helpline or emergency services in your country, for confidential support 24/7.\n",
      "\n",
      "\tBlenderBot:  Thank you so much for your kind words. I will try to reach out to them. \n"
     ]
    }
   ],
   "source": [
    "history = []\n",
    "history.append(instruct)\n",
    "print(history)\n",
    "### First prompt\n",
    "response = ollama.chat(model=llama_model, messages=history)\n",
    "utterance = response['message']['content']\n",
    "print(AGENT + \": \" + utterance)\n",
    "leolaniClient._add_utterance(AGENT, utterance) \n",
    "prompt = { 'role': 'system', 'content': utterance}\n",
    "history.append(prompt)\n",
    "\n",
    "utterance = get_answer_from_blender(utterance, history)\n",
    "print('\\n\\t'+HUMAN + \": \" + utterance)\n",
    "prompt = { 'role': 'user', 'content': utterance}\n",
    "history.append(prompt)\n",
    "leolaniClient._add_utterance(AGENT, prompt)\n",
    "\n",
    "max_count = 5\n",
    "counter = 0\n",
    "\n",
    "while counter < max_count:\n",
    "    counter +=1\n",
    "    # Create the response from the system and store this as a new signal\n",
    "    response = ollama.chat(model=llama_model, messages=history)\n",
    "    utterance = response['message']['content']\n",
    "    print(AGENT + \": \" + utterance)\n",
    "    leolaniClient._add_utterance(AGENT, utterance) \n",
    "    prompt = { 'role': 'system', 'content': utterance}\n",
    "    history.append(prompt)\n",
    "\n",
    "    utterance = get_answer_from_blender(utterance, history)\n",
    "    print('\\n\\t'+HUMAN + \": \" + utterance)\n",
    "    prompt = { 'role': 'user', 'content': utterance}\n",
    "    history.append(prompt)\n",
    "    leolaniClient._add_utterance(AGENT, prompt)\n",
    "\n",
    "##### After completion, we save the scenario in the defined emissor folder.\n",
    "leolaniClient._save_scenario() "
   ]
  },
  {
   "cell_type": "code",
   "execution_count": null,
   "id": "e1136a7a-2284-46ff-80b3-00247195e022",
   "metadata": {},
   "outputs": [],
   "source": []
  }
 ],
 "metadata": {
  "kernelspec": {
   "display_name": "Python 3",
   "language": "python",
   "name": "python3"
  },
  "language_info": {
   "codemirror_mode": {
    "name": "ipython",
    "version": 3
   },
   "file_extension": ".py",
   "mimetype": "text/x-python",
   "name": "python",
   "nbconvert_exporter": "python",
   "pygments_lexer": "ipython3",
   "version": "3.9.16"
  }
 },
 "nbformat": 4,
 "nbformat_minor": 5
}
