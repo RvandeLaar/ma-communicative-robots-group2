{
 "cells": [
  {
   "cell_type": "code",
   "execution_count": 19,
   "id": "3c738eb7-7a57-4f2f-b009-6f7269b20b66",
   "metadata": {},
   "outputs": [
    {
     "name": "stdout",
     "output_type": "stream",
     "text": [
      "Requirement already satisfied: numpy in /Users/rvandelaar/Desktop/School/Master AI/Communicative Robots/Group project/ma-communicative-robots-group2/venv/lib/python3.9/site-packages (1.26.4)\n",
      "Collecting openai==0.28.0\n",
      "  Downloading openai-0.28.0-py3-none-any.whl.metadata (13 kB)\n",
      "Requirement already satisfied: requests>=2.20 in /Users/rvandelaar/Desktop/School/Master AI/Communicative Robots/Group project/ma-communicative-robots-group2/venv/lib/python3.9/site-packages (from openai==0.28.0) (2.32.3)\n",
      "Requirement already satisfied: tqdm in /Users/rvandelaar/Desktop/School/Master AI/Communicative Robots/Group project/ma-communicative-robots-group2/venv/lib/python3.9/site-packages (from openai==0.28.0) (4.67.0)\n",
      "Collecting aiohttp (from openai==0.28.0)\n",
      "  Downloading aiohttp-3.11.10-cp39-cp39-macosx_10_9_x86_64.whl.metadata (7.7 kB)\n",
      "Requirement already satisfied: charset-normalizer<4,>=2 in /Users/rvandelaar/Desktop/School/Master AI/Communicative Robots/Group project/ma-communicative-robots-group2/venv/lib/python3.9/site-packages (from requests>=2.20->openai==0.28.0) (3.4.0)\n",
      "Requirement already satisfied: idna<4,>=2.5 in /Users/rvandelaar/Desktop/School/Master AI/Communicative Robots/Group project/ma-communicative-robots-group2/venv/lib/python3.9/site-packages (from requests>=2.20->openai==0.28.0) (3.10)\n",
      "Requirement already satisfied: urllib3<3,>=1.21.1 in /Users/rvandelaar/Desktop/School/Master AI/Communicative Robots/Group project/ma-communicative-robots-group2/venv/lib/python3.9/site-packages (from requests>=2.20->openai==0.28.0) (1.26.20)\n",
      "Requirement already satisfied: certifi>=2017.4.17 in /Users/rvandelaar/Desktop/School/Master AI/Communicative Robots/Group project/ma-communicative-robots-group2/venv/lib/python3.9/site-packages (from requests>=2.20->openai==0.28.0) (2024.8.30)\n",
      "Collecting aiohappyeyeballs>=2.3.0 (from aiohttp->openai==0.28.0)\n",
      "  Downloading aiohappyeyeballs-2.4.4-py3-none-any.whl.metadata (6.1 kB)\n",
      "Collecting aiosignal>=1.1.2 (from aiohttp->openai==0.28.0)\n",
      "  Downloading aiosignal-1.3.1-py3-none-any.whl.metadata (4.0 kB)\n",
      "Collecting async-timeout<6.0,>=4.0 (from aiohttp->openai==0.28.0)\n",
      "  Downloading async_timeout-5.0.1-py3-none-any.whl.metadata (5.1 kB)\n",
      "Requirement already satisfied: attrs>=17.3.0 in /Users/rvandelaar/Desktop/School/Master AI/Communicative Robots/Group project/ma-communicative-robots-group2/venv/lib/python3.9/site-packages (from aiohttp->openai==0.28.0) (24.2.0)\n",
      "Collecting frozenlist>=1.1.1 (from aiohttp->openai==0.28.0)\n",
      "  Downloading frozenlist-1.5.0-cp39-cp39-macosx_10_9_x86_64.whl.metadata (13 kB)\n",
      "Collecting multidict<7.0,>=4.5 (from aiohttp->openai==0.28.0)\n",
      "  Downloading multidict-6.1.0-cp39-cp39-macosx_10_9_x86_64.whl.metadata (5.0 kB)\n",
      "Collecting propcache>=0.2.0 (from aiohttp->openai==0.28.0)\n",
      "  Downloading propcache-0.2.1-cp39-cp39-macosx_10_9_x86_64.whl.metadata (9.2 kB)\n",
      "Collecting yarl<2.0,>=1.17.0 (from aiohttp->openai==0.28.0)\n",
      "  Downloading yarl-1.18.3-cp39-cp39-macosx_10_9_x86_64.whl.metadata (69 kB)\n",
      "Requirement already satisfied: typing-extensions>=4.1.0 in /Users/rvandelaar/Desktop/School/Master AI/Communicative Robots/Group project/ma-communicative-robots-group2/venv/lib/python3.9/site-packages (from multidict<7.0,>=4.5->aiohttp->openai==0.28.0) (4.12.2)\n",
      "Downloading openai-0.28.0-py3-none-any.whl (76 kB)\n",
      "Downloading aiohttp-3.11.10-cp39-cp39-macosx_10_9_x86_64.whl (468 kB)\n",
      "Downloading aiohappyeyeballs-2.4.4-py3-none-any.whl (14 kB)\n",
      "Downloading aiosignal-1.3.1-py3-none-any.whl (7.6 kB)\n",
      "Downloading async_timeout-5.0.1-py3-none-any.whl (6.2 kB)\n",
      "Downloading frozenlist-1.5.0-cp39-cp39-macosx_10_9_x86_64.whl (54 kB)\n",
      "Downloading multidict-6.1.0-cp39-cp39-macosx_10_9_x86_64.whl (29 kB)\n",
      "Downloading propcache-0.2.1-cp39-cp39-macosx_10_9_x86_64.whl (46 kB)\n",
      "Downloading yarl-1.18.3-cp39-cp39-macosx_10_9_x86_64.whl (94 kB)\n",
      "Installing collected packages: propcache, multidict, frozenlist, async-timeout, aiohappyeyeballs, yarl, aiosignal, aiohttp, openai\n",
      "  Attempting uninstall: openai\n",
      "    Found existing installation: openai 1.57.2\n",
      "    Uninstalling openai-1.57.2:\n",
      "      Successfully uninstalled openai-1.57.2\n",
      "Successfully installed aiohappyeyeballs-2.4.4 aiohttp-3.11.10 aiosignal-1.3.1 async-timeout-5.0.1 frozenlist-1.5.0 multidict-6.1.0 openai-0.28.0 propcache-0.2.1 yarl-1.18.3\n",
      "Requirement already satisfied: opencv-python in /Users/rvandelaar/Desktop/School/Master AI/Communicative Robots/Group project/ma-communicative-robots-group2/venv/lib/python3.9/site-packages (4.10.0.84)\n",
      "Requirement already satisfied: numpy>=1.17.0 in /Users/rvandelaar/Desktop/School/Master AI/Communicative Robots/Group project/ma-communicative-robots-group2/venv/lib/python3.9/site-packages (from opencv-python) (1.26.4)\n"
     ]
    }
   ],
   "source": [
    "!pip install numpy\n",
    "!pip install openai==0.28.0\n",
    "!pip install opencv-python"
   ]
  },
  {
   "cell_type": "code",
   "execution_count": 15,
   "id": "e259e587-93b2-4af6-afce-a02019f6a3fe",
   "metadata": {},
   "outputs": [],
   "source": [
    "import prior\n",
    "import openai\n",
    "\n",
    "from integrated_agent import Agent, ACTIONS\n",
    "from leolani_client import LeolaniChatClient, Action\n",
    "from ai2thor.controller import Controller"
   ]
  },
  {
   "cell_type": "code",
   "execution_count": 16,
   "id": "97640e45-9192-4cff-8573-57b06ff0e325",
   "metadata": {},
   "outputs": [],
   "source": [
    "# If you need keys for openai, do so here:\n",
    "with open('openaikey.txt') as f:\n",
    "    api_key = f.read().strip()\n",
    "openai.api_key = api_key"
   ]
  },
  {
   "cell_type": "code",
   "execution_count": 17,
   "id": "dd60696a-e032-42cf-bfa8-7f2c3a754ac3",
   "metadata": {},
   "outputs": [
    {
     "name": "stdout",
     "output_type": "stream",
     "text": [
      "[AI2-THOR WARNING] There has been an update to ProcTHOR-10K that must be used with AI2-THOR version 5.0+. To use the new version of ProcTHOR-10K, please update AI2-THOR to version 5.0+ by running:\n",
      "    pip install --upgrade ai2thor\n",
      "Alternatively, to downgrade to the old version of ProcTHOR-10K, run:\n",
      "   prior.load_dataset(\"procthor-10k\", revision=\"ab3cacd0fc17754d4c080a3fd50b18395fae8647\")\n"
     ]
    },
    {
     "name": "stderr",
     "output_type": "stream",
     "text": [
      "Loading train: 100%|████████████████████████████████████████████████████████████████████████████████████████████| 10000/10000 [00:02<00:00, 3717.33it/s]\n",
      "Loading val: 100%|████████████████████████████████████████████████████████████████████████████████████████████████| 1000/1000 [00:00<00:00, 6159.26it/s]\n",
      "Loading test: 100%|███████████████████████████████████████████████████████████████████████████████████████████████| 1000/1000 [00:00<00:00, 6361.44it/s]\n"
     ]
    }
   ],
   "source": [
    "dataset = prior.load_dataset(\"procthor-10k\")\n",
    "house = dataset[\"train\"][11]\n",
    "controller = Controller(scene=house, visibilityDistance=3, width=750, height=750)"
   ]
  },
  {
   "cell_type": "code",
   "execution_count": 18,
   "id": "060ee252-6a7c-4fea-8758-ac1513f68534",
   "metadata": {},
   "outputs": [
    {
     "name": "stdout",
     "output_type": "stream",
     "text": [
      "AI2Thor>This is what I can do: find, describe, move, turn, head\n",
      "Error processing the instruction: Unexpected error while parsing instruction: \n",
      "\n",
      "You tried to access openai.ChatCompletion, but this is no longer supported in openai>=1.0.0 - see the README at https://github.com/openai/openai-python for the API.\n",
      "\n",
      "You can run `openai migrate` to automatically upgrade your codebase to use the 1.0.0 interface. \n",
      "\n",
      "Alternatively, you can pin your installation to the old version, e.g. `pip install openai==0.28`\n",
      "\n",
      "A detailed migration guide is available here: https://github.com/openai/openai-python/discussions/742\n",
      "\n",
      "AI2Thor>Error processing the instruction: Unexpected error while parsing instruction: \n",
      "\n",
      "You tried to access openai.ChatCompletion, but this is no longer supported in openai>=1.0.0 - see the README at https://github.com/openai/openai-python for the API.\n",
      "\n",
      "You can run `openai migrate` to automatically upgrade your codebase to use the 1.0.0 interface. \n",
      "\n",
      "Alternatively, you can pin your installation to the old version, e.g. `pip install openai==0.28`\n",
      "\n",
      "A detailed migration guide is available here: https://github.com/openai/openai-python/discussions/742\n",
      "\n"
     ]
    },
    {
     "name": "stdin",
     "output_type": "stream",
     "text": [
      "User>  bye\n"
     ]
    },
    {
     "name": "stdout",
     "output_type": "stream",
     "text": [
      "Scenario saved and interaction ended.\n"
     ]
    }
   ],
   "source": [
    "# Configuration\n",
    "emissor_path = \"./emissor\"\n",
    "HUMAN = \"User\"\n",
    "AGENT = \"AI2Thor\"\n",
    "\n",
    "# Initialize Leolani client\n",
    "leolaniClient = LeolaniChatClient(emissor_path=emissor_path, agent=AGENT, human=HUMAN)\n",
    "\n",
    "# Start the interaction by asking for a human description\n",
    "actions_available = \", \".join(ACTIONS)\n",
    "utterance = f\"This is what I can do: {actions_available}\"\n",
    "print(AGENT + \">\" + utterance)\n",
    "leolaniClient._add_utterance(AGENT, utterance)\n",
    "agent = Agent()\n",
    "\n",
    "# Conversation loop\n",
    "while not (utterance.lower() in [\"stop\", \"bye\", \"exit\"]):\n",
    "    agent.process_instruction(utterance)\n",
    "\n",
    "    # Print and log agent responses\n",
    "    for ans in agent._answers:\n",
    "        print(AGENT + \">\" + ans)\n",
    "        leolaniClient._add_utterance(AGENT, ans)\n",
    "\n",
    "    # Log perceptions\n",
    "    for obj, objectType, coord, image in agent._perceptions:\n",
    "        leolaniClient._add_image(obj['name'], objectType, coord, image)\n",
    "    \n",
    "    # Log actions (if any were recorded)\n",
    "    for action in agent._actions:\n",
    "        leolaniClient._add_action(action)\n",
    "\n",
    "    utterance = input(HUMAN + \"> \")\n",
    "    leolaniClient._add_utterance(HUMAN, utterance)\n",
    "\n",
    "# End of conversation\n",
    "agent.controller.stop()\n",
    "leolaniClient._save_scenario()\n",
    "print(\"Scenario saved and interaction ended.\")"
   ]
  },
  {
   "cell_type": "code",
   "execution_count": null,
   "id": "1af209ee-b5ec-4dd4-8beb-fc28bd881da2",
   "metadata": {},
   "outputs": [],
   "source": []
  }
 ],
 "metadata": {
  "kernelspec": {
   "display_name": "Python 3 (ipykernel)",
   "language": "python",
   "name": "python3"
  },
  "language_info": {
   "codemirror_mode": {
    "name": "ipython",
    "version": 3
   },
   "file_extension": ".py",
   "mimetype": "text/x-python",
   "name": "python",
   "nbconvert_exporter": "python",
   "pygments_lexer": "ipython3",
   "version": "3.9.13"
  }
 },
 "nbformat": 4,
 "nbformat_minor": 5
}
