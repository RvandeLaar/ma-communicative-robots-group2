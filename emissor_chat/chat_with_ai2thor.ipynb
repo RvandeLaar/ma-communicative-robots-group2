{
 "cells": [
  {
   "cell_type": "markdown",
   "id": "bd0cf80a-dcaa-4e9c-a7cf-4d9e4f50bccb",
   "metadata": {},
   "source": [
    "# Demo how to chat in an Ai2Thor space\n",
    "\n",
    "https://ai2thor.allenai.org/ithor/documentation/environment-state"
   ]
  },
  {
   "cell_type": "code",
   "execution_count": 8,
   "id": "876834eb-5322-4ce8-833c-db3676f4ac81",
   "metadata": {},
   "outputs": [],
   "source": [
    "from leolani_client import LeolaniChatClient\n",
    "emissor_path = \"./emissor\"\n",
    "HUMAN=\"Piek\"\n",
    "AGENT=\"Ai2Thor\"\n",
    "leolaniClient = LeolaniChatClient(emissor_path=emissor_path, agent=AGENT, human=HUMAN)"
   ]
  },
  {
   "cell_type": "code",
   "execution_count": 9,
   "id": "3ecb5fc3-ff35-45fc-b31a-cd00d15c44d1",
   "metadata": {
    "tags": []
   },
   "outputs": [],
   "source": [
    "import ai2thor\n",
    "from ai2thor.controller import Controller\n",
    "import numpy as np"
   ]
  },
  {
   "cell_type": "code",
   "execution_count": 10,
   "id": "872ac6c3-0e2b-4813-b112-09f1c0864d85",
   "metadata": {
    "tags": []
   },
   "outputs": [],
   "source": [
    "import util_test as util"
   ]
  },
  {
   "cell_type": "code",
   "execution_count": 12,
   "id": "84ccbce3-e6a1-47e1-a91f-1cadd29b6915",
   "metadata": {
    "tags": []
   },
   "outputs": [
    {
     "name": "stdout",
     "output_type": "stream",
     "text": [
      "Ai2Thor>Hi Piek. Tell me what to do.\n",
      "Ai2Thor>This is what I can do:('I can do the following:', \"['find', 'describe', 'move', 'go', 'forward', 'back', 'left', 'right', 'open', 'close']\")\n"
     ]
    },
    {
     "name": "stdin",
     "output_type": "stream",
     "text": [
      "Piek>  find book\n"
     ]
    },
    {
     "name": "stdout",
     "output_type": "stream",
     "text": [
      "Ai2Thor>None\n"
     ]
    },
    {
     "name": "stdin",
     "output_type": "stream",
     "text": [
      "Piek>  go left\n"
     ]
    },
    {
     "name": "stdout",
     "output_type": "stream",
     "text": [
      "Ai2Thor>None\n"
     ]
    },
    {
     "name": "stdin",
     "output_type": "stream",
     "text": [
      "Piek>  bye\n"
     ]
    }
   ],
   "source": [
    "controller = Controller()\n",
    "max_context=50\n",
    "AI = \"AI\"\n",
    "\n",
    "utterance = \"Hi %s. Tell me what to do.\" % HUMAN\n",
    "print(AGENT+\">\"+utterance)\n",
    "leolaniClient._add_utterance(AGENT, utterance) \n",
    "\n",
    "utterance = \"This is what I can do:\"+str(util.what_i_can_do())\n",
    "print(AGENT+\">\"+utterance)\n",
    "leolaniClient._add_utterance(AGENT, utterance) \n",
    "\n",
    "utterance = input(HUMAN+\"> \")\n",
    "leolaniClient._add_utterance(HUMAN, utterance) \n",
    "\n",
    "while not (utterance.lower() == \"stop\" or utterance.lower() == \"bye\"):\n",
    "        utterances, perceptions, actions = util.process_instruction(controller, utterance)\n",
    "        for utterance in utterances:\n",
    "            print(AGENT+\">\"+str(utterance))\n",
    "            leolaniClient._add_utterance(AGENT, utterance) \n",
    "        for perception in perceptions:\n",
    "            leolaniClient._add_perception(AGENT, perception) \n",
    "        for action in actions:\n",
    "            leolaniClient._add_action(AGENT, action) \n",
    "        utterance = input(HUMAN+\"> \")\n",
    "        leolaniClient._add_utterance(HUMAN, utterance) \n",
    "\n",
    "##### After completion, we save the scenario in the defined emissor folder.\n",
    "leolaniClient._save_scenario() "
   ]
  },
  {
   "cell_type": "code",
   "execution_count": null,
   "id": "c105e1cc-d803-40c5-8e44-61155e8f0b9c",
   "metadata": {},
   "outputs": [],
   "source": []
  }
 ],
 "metadata": {
  "kernelspec": {
   "display_name": "Python 3",
   "language": "python",
   "name": "python3"
  },
  "language_info": {
   "codemirror_mode": {
    "name": "ipython",
    "version": 3
   },
   "file_extension": ".py",
   "mimetype": "text/x-python",
   "name": "python",
   "nbconvert_exporter": "python",
   "pygments_lexer": "ipython3",
   "version": "3.9.16"
  }
 },
 "nbformat": 4,
 "nbformat_minor": 5
}
