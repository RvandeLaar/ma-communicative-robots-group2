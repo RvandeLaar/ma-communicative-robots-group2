{
 "cells": [
  {
   "cell_type": "markdown",
   "id": "bd0cf80a-dcaa-4e9c-a7cf-4d9e4f50bccb",
   "metadata": {},
   "source": [
    "# Demo how to chat in an Ai2Thor space\n",
    "\n",
    "https://ai2thor.allenai.org/ithor/documentation/environment-state"
   ]
  },
  {
   "cell_type": "code",
   "execution_count": 1,
   "id": "3ecb5fc3-ff35-45fc-b31a-cd00d15c44d1",
   "metadata": {
    "tags": []
   },
   "outputs": [],
   "source": [
    "import ai2thor\n",
    "from ai2thor.controller import Controller\n",
    "import numpy as np"
   ]
  },
  {
   "cell_type": "code",
   "execution_count": 2,
   "id": "872ac6c3-0e2b-4813-b112-09f1c0864d85",
   "metadata": {
    "tags": []
   },
   "outputs": [],
   "source": [
    "import ai2thor_util as util"
   ]
  },
  {
   "cell_type": "code",
   "execution_count": 3,
   "id": "84ccbce3-e6a1-47e1-a91f-1cadd29b6915",
   "metadata": {
    "tags": []
   },
   "outputs": [
    {
     "name": "stdout",
     "output_type": "stream",
     "text": [
      "Hi human. Tell me what to do.\n"
     ]
    },
    {
     "name": "stdin",
     "output_type": "stream",
     "text": [
      ">  find window\n"
     ]
    },
    {
     "name": "stdout",
     "output_type": "stream",
     "text": [
      "I found  2  of those.\n",
      "Window 1.9770840356818078  pixels away from  HousePlant\n",
      "These are its properties: ['breakable']\n",
      "Window 1.0177311925659633  pixels away from  CoffeeMachine\n",
      "These are its properties: ['breakable']\n"
     ]
    },
    {
     "name": "stdin",
     "output_type": "stream",
     "text": [
      ">  find apple\n"
     ]
    },
    {
     "name": "stdout",
     "output_type": "stream",
     "text": [
      "I found  1  of those.\n",
      "Apple 0.2374098864570046  pixels away from  Tomato\n",
      "These are its properties: ['sliceable', 'pickupable']\n"
     ]
    },
    {
     "name": "stdin",
     "output_type": "stream",
     "text": [
      ">  move left\n",
      ">  find door\n"
     ]
    },
    {
     "name": "stdout",
     "output_type": "stream",
     "text": [
      "I could not find it. Shall I move?\n"
     ]
    },
    {
     "name": "stdin",
     "output_type": "stream",
     "text": [
      ">  move left\n",
      ">  find door\n"
     ]
    },
    {
     "name": "stdout",
     "output_type": "stream",
     "text": [
      "I could not find it. Shall I move?\n"
     ]
    },
    {
     "name": "stdin",
     "output_type": "stream",
     "text": [
      ">  find coffeemachine\n"
     ]
    },
    {
     "name": "stdout",
     "output_type": "stream",
     "text": [
      "I found  1  of those.\n",
      "CoffeeMachine 0.1025376990525987  pixels away from  CounterTop\n",
      "These are its properties: ['receptacle', 'toggleable', 'isHeatSource', 'moveable']\n"
     ]
    },
    {
     "name": "stdin",
     "output_type": "stream",
     "text": [
      ">  stop\n"
     ]
    }
   ],
   "source": [
    "controller = Controller()\n",
    "max_context=50\n",
    "AI = \"AI\"\n",
    "utterance = \"Hi human. Tell me what to do.\"\n",
    "print(utterance)\n",
    "\n",
    "utterance = input(\"> \")\n",
    "\n",
    "while not (utterance.lower() == \"stop\" or utterance.lower() == \"bye\"):\n",
    "        util.process_instruction(controller, utterance)\n",
    "        utterance = input(\"> \")"
   ]
  },
  {
   "cell_type": "code",
   "execution_count": null,
   "id": "c105e1cc-d803-40c5-8e44-61155e8f0b9c",
   "metadata": {},
   "outputs": [],
   "source": []
  }
 ],
 "metadata": {
  "kernelspec": {
   "display_name": "Python 3",
   "language": "python",
   "name": "python3"
  },
  "language_info": {
   "codemirror_mode": {
    "name": "ipython",
    "version": 3
   },
   "file_extension": ".py",
   "mimetype": "text/x-python",
   "name": "python",
   "nbconvert_exporter": "python",
   "pygments_lexer": "ipython3",
   "version": "3.9.16"
  }
 },
 "nbformat": 4,
 "nbformat_minor": 5
}
