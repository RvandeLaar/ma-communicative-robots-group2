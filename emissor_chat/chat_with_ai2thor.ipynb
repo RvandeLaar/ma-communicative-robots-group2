{
 "cells": [
  {
   "cell_type": "markdown",
   "id": "bd0cf80a-dcaa-4e9c-a7cf-4d9e4f50bccb",
   "metadata": {},
   "source": [
    "# Demo how to chat in an Ai2Thor space\n",
    "\n",
    "https://ai2thor.allenai.org/ithor/documentation/environment-state"
   ]
  },
  {
   "cell_type": "code",
   "execution_count": 1,
   "id": "876834eb-5322-4ce8-833c-db3676f4ac81",
   "metadata": {},
   "outputs": [],
   "source": [
    "from leolani_client import LeolaniChatClient, Action\n",
    "emissor_path = \"./emissor\"\n",
    "HUMAN=\"Piek\"\n",
    "AGENT=\"Ai2Thor\"\n",
    "leolaniClient = LeolaniChatClient(emissor_path=emissor_path, agent=AGENT, human=HUMAN)"
   ]
  },
  {
   "cell_type": "code",
   "execution_count": 2,
   "id": "3ecb5fc3-ff35-45fc-b31a-cd00d15c44d1",
   "metadata": {
    "tags": []
   },
   "outputs": [],
   "source": [
    "import ai2thor\n",
    "from ai2thor.controller import Controller\n",
    "import numpy as np"
   ]
  },
  {
   "cell_type": "code",
   "execution_count": 3,
   "id": "872ac6c3-0e2b-4813-b112-09f1c0864d85",
   "metadata": {
    "tags": []
   },
   "outputs": [],
   "source": [
    "from ai2thor_util import Ai2ThorClient"
   ]
  },
  {
   "cell_type": "code",
   "execution_count": 4,
   "id": "84ccbce3-e6a1-47e1-a91f-1cadd29b6915",
   "metadata": {
    "tags": []
   },
   "outputs": [
    {
     "name": "stdout",
     "output_type": "stream",
     "text": [
      "Ai2Thor>Hi Piek. Tell me what to do.\n",
      "Ai2Thor>This is what I can do:('I can do the following:', \"['find', 'describe', 'move', 'go', 'turn', 'forward', 'back', 'left', 'right', 'open', 'close', 'look']\")\n"
     ]
    },
    {
     "name": "stdin",
     "output_type": "stream",
     "text": [
      "Piek>  find apple\n"
     ]
    },
    {
     "name": "stdout",
     "output_type": "stream",
     "text": [
      "Ai2Thor>I found 1 instances of type apple in my view\n",
      "Apple_f33eaaa0 at {'x': -1.0949554443359375, 'y': 0.9632999897003174, 'z': -0.01994890719652176}\n"
     ]
    },
    {
     "name": "stdin",
     "output_type": "stream",
     "text": [
      "Piek>  go left\n",
      "Piek>  go left\n",
      "Piek>  find cup\n",
      "Piek>  turn right\n",
      "Piek>  bye\n"
     ]
    }
   ],
   "source": [
    "ai2ThorClient = Ai2ThorClient()\n",
    "\n",
    "max_context=50\n",
    "AI = \"AI\"\n",
    "\n",
    "utterance = \"Hi %s. Tell me what to do.\" % HUMAN\n",
    "print(AGENT+\">\"+utterance)\n",
    "leolaniClient._add_utterance(AGENT, utterance) \n",
    "\n",
    "utterance = \"This is what I can do:\"+str(ai2ThorClient.what_i_can_do())\n",
    "print(AGENT+\">\"+utterance)\n",
    "leolaniClient._add_utterance(AGENT, utterance) \n",
    "\n",
    "utterance = input(HUMAN+\"> \")\n",
    "leolaniClient._add_utterance(HUMAN, utterance) \n",
    "\n",
    "while not (utterance.lower() == \"stop\" or utterance.lower() == \"bye\"):\n",
    "        ai2ThorClient.process_instruction(utterance)\n",
    "        for utterance in ai2ThorClient._answers:\n",
    "            print(AGENT+\">\"+str(utterance))\n",
    "            leolaniClient._add_utterance(AGENT, utterance)\n",
    "            \n",
    "        for _, objectType, coord in ai2ThorClient._perceptions:\n",
    "             leolaniClient._add_image(objectType, coord) \n",
    "\n",
    "        for action in ai2ThorClient._actions:\n",
    "            leolaniClient._add_action(action)\n",
    "            \n",
    "        utterance = input(HUMAN+\"> \")\n",
    "        leolaniClient._add_utterance(HUMAN, utterance) \n",
    "\n",
    "ai2ThorClient._controller.stop()\n",
    "##### After completion, we save the scenario in the defined emissor folder.\n",
    "leolaniClient._save_scenario() "
   ]
  },
  {
   "cell_type": "code",
   "execution_count": null,
   "id": "48728a9a-9a23-45f9-8a67-d0df34c09f77",
   "metadata": {},
   "outputs": [],
   "source": []
  }
 ],
 "metadata": {
  "kernelspec": {
   "display_name": "Python 3",
   "language": "python",
   "name": "python3"
  },
  "language_info": {
   "codemirror_mode": {
    "name": "ipython",
    "version": 3
   },
   "file_extension": ".py",
   "mimetype": "text/x-python",
   "name": "python",
   "nbconvert_exporter": "python",
   "pygments_lexer": "ipython3",
   "version": "3.9.16"
  }
 },
 "nbformat": 4,
 "nbformat_minor": 5
}
