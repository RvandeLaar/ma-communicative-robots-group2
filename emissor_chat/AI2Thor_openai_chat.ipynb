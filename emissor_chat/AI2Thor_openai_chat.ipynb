{
 "cells": [
  {
   "cell_type": "code",
   "execution_count": 1,
   "id": "5c270f78-7a87-451c-8342-6fd3597696ab",
   "metadata": {},
   "outputs": [],
   "source": [
    "#!pip install numpy"
   ]
  },
  {
   "cell_type": "code",
   "execution_count": 2,
   "id": "5cf67004-0405-4167-9117-c5dc162148a6",
   "metadata": {},
   "outputs": [],
   "source": [
    "#!pip install openai==0.28.0\n",
    "#!pip install opencv-python"
   ]
  },
  {
   "cell_type": "code",
   "execution_count": 3,
   "id": "b2b2e7ed-844a-4a4e-83fe-3abe9582ec11",
   "metadata": {},
   "outputs": [],
   "source": [
    "from ai2thor.controller import Controller\n",
    "from ai2thor_openai_client import Ai2ThorClient\n",
    "from leolani_client import Action\n",
    "import numpy as np\n",
    "from PIL import Image\n",
    "import openai\n",
    "import cv2"
   ]
  },
  {
   "cell_type": "code",
   "execution_count": 4,
   "id": "ad7bd63d-29ad-4519-acb2-62846288ede4",
   "metadata": {},
   "outputs": [],
   "source": [
    "from leolani_client import LeolaniChatClient, Action\n",
    "emissor_path = \"./emissor\"\n",
    "HUMAN=\"Piek\"\n",
    "AGENT=\"Ai2Thor\"\n",
    "leolaniClient = LeolaniChatClient(emissor_path=emissor_path, agent=AGENT, human=HUMAN)"
   ]
  },
  {
   "cell_type": "code",
   "execution_count": 6,
   "id": "59387877-2a24-4573-8408-a53b98376145",
   "metadata": {},
   "outputs": [
    {
     "name": "stdout",
     "output_type": "stream",
     "text": [
      "Robot> Please describe in one sentence what you see in the image shown.\n"
     ]
    },
    {
     "name": "stdin",
     "output_type": "stream",
     "text": [
      "Evaluator>  a microwave, a spoon, a cup\n"
     ]
    },
    {
     "name": "stdout",
     "output_type": "stream",
     "text": [
      "Robot> Thank you! I have stored your description: \"a microwave, a spoon, a cup\"\n"
     ]
    },
    {
     "name": "stdin",
     "output_type": "stream",
     "text": [
      "You>  what do you see\n"
     ]
    },
    {
     "name": "stdout",
     "output_type": "stream",
     "text": [
      "AI> I understand. You want me to describe what I see.\n",
      "AI> The image shows a kitchen scene. There is a microwave installed within wooden cabinets above a marble countertop. On the countertop, there are a few items: a green mug and a metal pot nearby on a stove with four burners. The walls appear to have a marble-like finish.I think there is a possibility of '40' percents that this region overlaps with the scene you're looking for.\n"
     ]
    },
    {
     "name": "stdin",
     "output_type": "stream",
     "text": [
      "You>  oh I need to know more about the pot\n"
     ]
    },
    {
     "name": "stdout",
     "output_type": "stream",
     "text": [
      "AI> I understand. You want me to describe that object 'pot'.\n",
      "AI> The pot in the image is brown and located on a stovetop. It appears to be a standard cooking pot with a handle on one side. The pot is positioned on one of the burners of a gas stove.\n"
     ]
    },
    {
     "name": "stdin",
     "output_type": "stream",
     "text": [
      "You>  bye\n"
     ]
    }
   ],
   "source": [
    "ai2ThorClient = Ai2ThorClient()\n",
    "\n",
    "while True:\n",
    "    user_input = input(\"You> \")\n",
    "    if user_input.lower() in [\"stop\", \"bye\"]:\n",
    "        break\n",
    "    response = ai2ThorClient.process_instruction(user_input)\n",
    "    for answer in ai2ThorClient._answers:\n",
    "        print(f\"AI> {answer}\")\n",
    "\n",
    "ai2ThorClient._controller.stop()\n",
    "\n",
    "##### After completion, we save the scenario in the defined emissor folder.\n",
    "leolaniClient._save_scenario() "
   ]
  },
  {
   "cell_type": "code",
   "execution_count": null,
   "id": "ab7082fe-361d-4636-9c2c-54c16c561b71",
   "metadata": {},
   "outputs": [],
   "source": []
  },
  {
   "cell_type": "code",
   "execution_count": null,
   "id": "b0911907-4a8c-4a93-8111-a50ece276666",
   "metadata": {},
   "outputs": [],
   "source": []
  }
 ],
 "metadata": {
  "kernelspec": {
   "display_name": "Python 3 (ipykernel)",
   "language": "python",
   "name": "python3"
  },
  "language_info": {
   "codemirror_mode": {
    "name": "ipython",
    "version": 3
   },
   "file_extension": ".py",
   "mimetype": "text/x-python",
   "name": "python",
   "nbconvert_exporter": "python",
   "pygments_lexer": "ipython3",
   "version": "3.9.13"
  }
 },
 "nbformat": 4,
 "nbformat_minor": 5
}
