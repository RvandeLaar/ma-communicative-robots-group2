{
 "cells": [
  {
   "cell_type": "markdown",
   "id": "2aa15b45-4e39-41f1-ac8e-d22c55fe5edb",
   "metadata": {},
   "source": [
    "# Sentence similarity"
   ]
  },
  {
   "cell_type": "markdown",
   "id": "2e84dfc1-8f83-4ef0-8e5b-993fb74858f1",
   "metadata": {},
   "source": [
    "Reimers, Nils and Iryna Gurevych (2019). “Sentence-BERT: Sentence Embed- dings using Siamese BERT-Networks.” In: Proceedings of the 2019 Confer- ence on Empirical Methods in Natural Language Processing and the 9th Interna- tional Joint Conference on Natural Language Processing (EMNLP-IJCNLP). Hong Kong, China: Association for Computational Linguistics, pp. 3982–3992.\n",
    "\n",
    "@inproceedings{reimers-2019-sentence-bert,\n",
    "    title = \"Sentence-BERT: Sentence Embeddings using Siamese BERT-Networks\",\n",
    "    author = \"Reimers, Nils and Gurevych, Iryna\",\n",
    "    booktitle = \"Proceedings of the 2019 Conference on Empirical Methods in Natural Language Processing\",\n",
    "    month = \"11\",\n",
    "    year = \"2019\",\n",
    "    publisher = \"Association for Computational Linguistics\",\n",
    "    url = \"http://arxiv.org/abs/1908.10084\",\n",
    "}\n",
    "\n",
    "roberta-large-nli-stsb- mean-tokens\n",
    "\n",
    "https://huggingface.co/sentence-transformers/roberta-large-nli-stsb-mean-tokens\n"
   ]
  },
  {
   "cell_type": "code",
   "execution_count": 2,
   "id": "88328125-8260-45cb-93ac-c6e1e0f07606",
   "metadata": {
    "tags": []
   },
   "outputs": [],
   "source": [
    "#!pip install -U sentence-transformers"
   ]
  },
  {
   "cell_type": "code",
   "execution_count": 12,
   "id": "aa705339-8b99-49d7-bd42-db1535f282f0",
   "metadata": {
    "tags": []
   },
   "outputs": [],
   "source": [
    "from sentence_transformers import SentenceTransformer\n",
    "from sklearn.metrics.pairwise import cosine_similarity\n",
    "model = SentenceTransformer('sentence-transformers/roberta-large-nli-stsb-mean-tokens')"
   ]
  },
  {
   "cell_type": "code",
   "execution_count": 15,
   "id": "37f36b44-eca5-45c9-9d6f-69a84f253ed9",
   "metadata": {
    "tags": []
   },
   "outputs": [
    {
     "name": "stdout",
     "output_type": "stream",
     "text": [
      "[[ 1.2174257  -1.4104817   0.35468224 ...  0.12470539 -1.5021347\n",
      "   0.70926327]\n",
      " [-0.0066709  -0.83593565  0.10525458 ... -0.24914624 -1.8717239\n",
      "   0.12990858]]\n"
     ]
    }
   ],
   "source": [
    "sentences = [\"This is an example sentence\", \"Each sentence is an example\"]\n",
    "\n",
    "embeddings = model.encode(sentences)\n",
    "print(embeddings)"
   ]
  },
  {
   "cell_type": "code",
   "execution_count": 16,
   "id": "829657b1-42c8-4ba9-ace0-72dab2265f66",
   "metadata": {
    "tags": []
   },
   "outputs": [
    {
     "name": "stdout",
     "output_type": "stream",
     "text": [
      "[[0.81568533]]\n"
     ]
    }
   ],
   "source": [
    "# Calculate cosine similarity\n",
    "similarity = cosine_similarity(embeddings[0].reshape(1,-1), embeddings[1].reshape(1,-1))\n",
    "print(similarity)"
   ]
  },
  {
   "cell_type": "code",
   "execution_count": null,
   "id": "5b05dc87-e196-4ff2-a5f6-416f2d9e6c39",
   "metadata": {},
   "outputs": [],
   "source": []
  }
 ],
 "metadata": {
  "kernelspec": {
   "display_name": "Python 3",
   "language": "python",
   "name": "python3"
  },
  "language_info": {
   "codemirror_mode": {
    "name": "ipython",
    "version": 3
   },
   "file_extension": ".py",
   "mimetype": "text/x-python",
   "name": "python",
   "nbconvert_exporter": "python",
   "pygments_lexer": "ipython3",
   "version": "3.9.16"
  }
 },
 "nbformat": 4,
 "nbformat_minor": 5
}
